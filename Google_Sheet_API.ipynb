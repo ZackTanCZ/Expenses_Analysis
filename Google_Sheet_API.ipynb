{
  "cells": [
    {
      "cell_type": "markdown",
      "metadata": {
        "id": "view-in-github",
        "colab_type": "text"
      },
      "source": [
        "<a href=\"https://colab.research.google.com/github/ZackTanCZ/Expenses_Analysis/blob/main/Google_Sheet_API.ipynb\" target=\"_parent\"><img src=\"https://colab.research.google.com/assets/colab-badge.svg\" alt=\"Open In Colab\"/></a>"
      ]
    },
    {
      "cell_type": "code",
      "execution_count": null,
      "id": "f110b042-46ea-404c-a3df-94f643471cd8",
      "metadata": {
        "id": "f110b042-46ea-404c-a3df-94f643471cd8"
      },
      "outputs": [],
      "source": [
        "# Import Libraries\n",
        "import json, re, datetime as dt\n",
        "import pandas as pd, numpy as np\n",
        "\n",
        "# Python library to access google sheets - https://docs.gspread.org/en/latest/\n",
        "import gspread\n",
        "import google.auth\n",
        "from google.oauth2 import service_account"
      ]
    },
    {
      "cell_type": "code",
      "execution_count": null,
      "id": "03063078-9c0b-4a4a-a4a1-98abd2f935cc",
      "metadata": {
        "id": "03063078-9c0b-4a4a-a4a1-98abd2f935cc"
      },
      "outputs": [],
      "source": [
        "# Grab the Service Account Credentials from the JSON file\n",
        "creds = service_account.Credentials.from_service_account_file('vocal-catalyst-359907-2523fbe4a84c.json')\n",
        "\n",
        "# Include the scope\n",
        "scoped_creds = creds.with_scopes(['https://spreadsheets.google.com/feeds','https://www.googleapis.com/auth/drive'])\n",
        "\n",
        "# authorize the clientsheet with gspread\n",
        "client = gspread.authorize(scoped_creds)"
      ]
    },
    {
      "cell_type": "code",
      "source": [
        "# Regular expression for matching spreadsheet - e.g. '[Jan'25] Living Expenses'\n",
        "# title_regex = re.compile(r\"\\[[A-Za-z][A-Za-z][A-Za-z]+'[0-9][0-9]+\\] Living Expenses\", re.IGNORECASE)\n",
        "title_regex = re.compile(r\"\\[[A-Za-z][A-Za-z][A-Za-z]+'24+\\] Living Expenses\", re.IGNORECASE)\n",
        "\n",
        "# print(title_regex.search('[Jun\\'24] Living Expenses'))"
      ],
      "metadata": {
        "id": "YvZL-xjEAUt2"
      },
      "id": "YvZL-xjEAUt2",
      "execution_count": null,
      "outputs": []
    },
    {
      "cell_type": "code",
      "source": [
        "# # Handling of single spreadsheet\n",
        "# for spreadsheet in client.list_spreadsheet_files():\n",
        "#   if(title_regex.search(spreadsheet['name'])):\n",
        "#     print(spreadsheet['name'])\n",
        "\n",
        "#     # Opening the spreadsheet with matching name\n",
        "#     matching_sheet = client.open(spreadsheet['name'])\n",
        "\n",
        "#     print(matching_sheet.worksheets())\n",
        "\n",
        "#     # Select the 2nd worksheet - Transactions\n",
        "#     data_worksheet = matching_sheet.worksheet('Transactions')\n",
        "\n",
        "#     # Extract the data from cells B4:E100\n",
        "#     record_list = data_worksheet.get(\"B4:E100\")\n",
        "\n",
        "#     # Slice the list into column header and row records\n",
        "#     col_header, col_data = record_list[0], record_list[1:]\n",
        "\n",
        "#     # Cast into a DataFrame for Data Engineering\n",
        "#     gSheetDF = pd.DataFrame(col_data, columns = col_header)\n",
        "\n",
        "#     # Remove '$' sign in the 'Amount' Column\n",
        "#     gSheetDF['Amount'] = gSheetDF['Amount'].str.slice(1)\n",
        "\n",
        "#     # Cast the DataFrame into the appropriate datatype\n",
        "#     gSheetDF = gSheetDF.astype({\"Date\": str, \"Amount\": float,\n",
        "#                           \"Description\": str, \"Category\": str})\n",
        "\n",
        "#     # # Dont cast to datetime yet. Do it after creating the dataset\n",
        "#     # # Cast 'Date' column into datetime\n",
        "#     # gSheetDF['Date'] = pd.to_datetime(gSheetDF['Date'], format='%d/%m/%Y')\n"
      ],
      "metadata": {
        "id": "Tt6MyMVfYOo8"
      },
      "id": "Tt6MyMVfYOo8",
      "execution_count": null,
      "outputs": []
    },
    {
      "cell_type": "code",
      "execution_count": null,
      "id": "8756e070-6467-441e-9b5a-22797929c651",
      "metadata": {
        "id": "8756e070-6467-441e-9b5a-22797929c651"
      },
      "outputs": [],
      "source": [
        "# display(gSheetDF)"
      ]
    },
    {
      "cell_type": "markdown",
      "source": [
        "In this iteration, we assume that there's only one google spreadsheet to extract data from. What if there are multiple spreadsheets to extract and collate our data from?\n",
        "\n",
        "the \"for\" loop will to be amended to account for multi-DataFrames."
      ],
      "metadata": {
        "id": "5C0K_ohK_8Cc"
      },
      "id": "5C0K_ohK_8Cc"
    },
    {
      "cell_type": "markdown",
      "source": [
        "One approach is to\n",
        "\n",
        "\n",
        "*   Store each individual DataFrame into an empty list\n",
        "*   Use pd.concat() to append each DataFrame into one grand DataFrame\n",
        "\n",
        "\n"
      ],
      "metadata": {
        "id": "9K7W5eGUAwD3"
      },
      "id": "9K7W5eGUAwD3"
    },
    {
      "cell_type": "code",
      "source": [
        "# Handling of Multiple spreadsheet\n",
        "spreadsheet_df_list = [] # An empty list\n",
        "\n",
        "for spreadsheet in client.list_spreadsheet_files():\n",
        "  if(title_regex.search(spreadsheet['name'])):\n",
        "    print(spreadsheet['name'])\n",
        "\n",
        "    # Opening the spreadsheet with matching name\n",
        "    matching_sheet = client.open(spreadsheet['name'])\n",
        "\n",
        "    print(matching_sheet.worksheets())\n",
        "\n",
        "    # Select the 2nd worksheet 'Transactions' with the .worksheet method\n",
        "    data_worksheet = matching_sheet.worksheet('Transactions')\n",
        "\n",
        "    # Extract the data from cells B4:E100\n",
        "    record_list = data_worksheet.get(\"B4:E100\")\n",
        "\n",
        "    # Slice the list into column header and row records\n",
        "    col_header, col_data = record_list[0], record_list[1:]\n",
        "\n",
        "    # Cast into a DataFrame for Data Engineering\n",
        "    gSheetDF = pd.DataFrame(col_data, columns = col_header)\n",
        "\n",
        "    # Remove '$' sign in the 'Amount' Column\n",
        "    gSheetDF['Amount'] = gSheetDF['Amount'].str.slice(1)\n",
        "\n",
        "    # Cast the DataFrame into the appropriate datatype\n",
        "    gSheetDF = gSheetDF.astype({\"Date\": str, \"Amount\": float,\n",
        "                          \"Description\": str, \"Category\": str})\n",
        "\n",
        "    # # Dont cast to datetime yet. Do it after creating the dataset\n",
        "    # # Cast 'Date' column into datetime\n",
        "    # gSheetDF['Date'] = pd.to_datetime(gSheetDF['Date'], format='%d/%m/%Y')\n",
        "\n",
        "    # Append each DataFrame into the 'spreadsheet_df_list' list\n",
        "    spreadsheet_df_list.append(gSheetDF)\n"
      ],
      "metadata": {
        "colab": {
          "base_uri": "https://localhost:8080/"
        },
        "id": "iq0wNVK1ApZx",
        "outputId": "74dc63b9-f415-4e91-d121-adc4dac6701c"
      },
      "id": "iq0wNVK1ApZx",
      "execution_count": null,
      "outputs": [
        {
          "output_type": "stream",
          "name": "stdout",
          "text": [
            "[May'24] Living Expenses\n",
            "[<Worksheet 'Summary' id:0>, <Worksheet 'Transactions' id:1732160294>]\n",
            "[Apr'24] Living Expenses\n",
            "[<Worksheet 'Summary' id:0>, <Worksheet 'Transactions' id:1732160294>]\n",
            "[Mar'24] Living Expenses\n",
            "[<Worksheet 'Summary' id:0>, <Worksheet 'Transactions' id:1732160294>]\n",
            "[Feb'24] Living Expenses\n",
            "[<Worksheet 'Summary' id:0>, <Worksheet 'Transactions' id:1732160294>]\n",
            "[Jan'24] Living Expenses\n",
            "[<Worksheet 'Summary' id:0>, <Worksheet 'Transactions' id:1732160294>]\n",
            "[Jun'24] Living Expenses\n",
            "[<Worksheet 'Summary' id:0>, <Worksheet 'Transactions' id:1732160294>]\n",
            "[Jul'24] Living Expenses\n",
            "[<Worksheet 'Summary' id:0>, <Worksheet 'Transactions' id:1732160294>]\n"
          ]
        }
      ]
    },
    {
      "cell_type": "code",
      "source": [
        "print(len(spreadsheet_df_list))"
      ],
      "metadata": {
        "colab": {
          "base_uri": "https://localhost:8080/"
        },
        "id": "c_fqo5ACDcrJ",
        "outputId": "2c0d3827-273e-48e6-ee42-ee9aeb788a1f"
      },
      "id": "c_fqo5ACDcrJ",
      "execution_count": null,
      "outputs": [
        {
          "output_type": "stream",
          "name": "stdout",
          "text": [
            "7\n"
          ]
        }
      ]
    },
    {
      "cell_type": "code",
      "source": [
        "# Concat each DataFrame found in the list into one final DataFrame\n",
        "final_df = pd.concat(spreadsheet_df_list, ignore_index=True)\n",
        "display(final_df)"
      ],
      "metadata": {
        "colab": {
          "base_uri": "https://localhost:8080/",
          "height": 424
        },
        "id": "PcTH95V6b_VE",
        "outputId": "a1c97dd1-690b-440d-968d-9c50695db797"
      },
      "id": "PcTH95V6b_VE",
      "execution_count": null,
      "outputs": [
        {
          "output_type": "display_data",
          "data": {
            "text/plain": [
              "           Date  Amount        Description  Category\n",
              "0    01/05/2024    50.0               Rent      Home\n",
              "1    01/05/2024    11.0             Dinner      Food\n",
              "2    02/05/2024     4.2             Dinner      Food\n",
              "3    03/05/2024    20.0             Dinner      Food\n",
              "4    04/05/2024     6.0             Dinner      Food\n",
              "..          ...     ...                ...       ...\n",
              "254   28/7/2024    13.6             Dinner      Food\n",
              "255   29/7/2024    18.6             Dinner      Food\n",
              "256   30/7/2024    10.2             Dinner      Food\n",
              "257   31/7/2024     2.5  ActiveSG Gym Pass  Personal\n",
              "258   31/7/2024    10.8             Dinner      Food\n",
              "\n",
              "[259 rows x 4 columns]"
            ],
            "text/html": [
              "\n",
              "  <div id=\"df-fe46b2bc-2d43-48bc-a255-ee0f2637afed\" class=\"colab-df-container\">\n",
              "    <div>\n",
              "<style scoped>\n",
              "    .dataframe tbody tr th:only-of-type {\n",
              "        vertical-align: middle;\n",
              "    }\n",
              "\n",
              "    .dataframe tbody tr th {\n",
              "        vertical-align: top;\n",
              "    }\n",
              "\n",
              "    .dataframe thead th {\n",
              "        text-align: right;\n",
              "    }\n",
              "</style>\n",
              "<table border=\"1\" class=\"dataframe\">\n",
              "  <thead>\n",
              "    <tr style=\"text-align: right;\">\n",
              "      <th></th>\n",
              "      <th>Date</th>\n",
              "      <th>Amount</th>\n",
              "      <th>Description</th>\n",
              "      <th>Category</th>\n",
              "    </tr>\n",
              "  </thead>\n",
              "  <tbody>\n",
              "    <tr>\n",
              "      <th>0</th>\n",
              "      <td>01/05/2024</td>\n",
              "      <td>50.0</td>\n",
              "      <td>Rent</td>\n",
              "      <td>Home</td>\n",
              "    </tr>\n",
              "    <tr>\n",
              "      <th>1</th>\n",
              "      <td>01/05/2024</td>\n",
              "      <td>11.0</td>\n",
              "      <td>Dinner</td>\n",
              "      <td>Food</td>\n",
              "    </tr>\n",
              "    <tr>\n",
              "      <th>2</th>\n",
              "      <td>02/05/2024</td>\n",
              "      <td>4.2</td>\n",
              "      <td>Dinner</td>\n",
              "      <td>Food</td>\n",
              "    </tr>\n",
              "    <tr>\n",
              "      <th>3</th>\n",
              "      <td>03/05/2024</td>\n",
              "      <td>20.0</td>\n",
              "      <td>Dinner</td>\n",
              "      <td>Food</td>\n",
              "    </tr>\n",
              "    <tr>\n",
              "      <th>4</th>\n",
              "      <td>04/05/2024</td>\n",
              "      <td>6.0</td>\n",
              "      <td>Dinner</td>\n",
              "      <td>Food</td>\n",
              "    </tr>\n",
              "    <tr>\n",
              "      <th>...</th>\n",
              "      <td>...</td>\n",
              "      <td>...</td>\n",
              "      <td>...</td>\n",
              "      <td>...</td>\n",
              "    </tr>\n",
              "    <tr>\n",
              "      <th>254</th>\n",
              "      <td>28/7/2024</td>\n",
              "      <td>13.6</td>\n",
              "      <td>Dinner</td>\n",
              "      <td>Food</td>\n",
              "    </tr>\n",
              "    <tr>\n",
              "      <th>255</th>\n",
              "      <td>29/7/2024</td>\n",
              "      <td>18.6</td>\n",
              "      <td>Dinner</td>\n",
              "      <td>Food</td>\n",
              "    </tr>\n",
              "    <tr>\n",
              "      <th>256</th>\n",
              "      <td>30/7/2024</td>\n",
              "      <td>10.2</td>\n",
              "      <td>Dinner</td>\n",
              "      <td>Food</td>\n",
              "    </tr>\n",
              "    <tr>\n",
              "      <th>257</th>\n",
              "      <td>31/7/2024</td>\n",
              "      <td>2.5</td>\n",
              "      <td>ActiveSG Gym Pass</td>\n",
              "      <td>Personal</td>\n",
              "    </tr>\n",
              "    <tr>\n",
              "      <th>258</th>\n",
              "      <td>31/7/2024</td>\n",
              "      <td>10.8</td>\n",
              "      <td>Dinner</td>\n",
              "      <td>Food</td>\n",
              "    </tr>\n",
              "  </tbody>\n",
              "</table>\n",
              "<p>259 rows × 4 columns</p>\n",
              "</div>\n",
              "    <div class=\"colab-df-buttons\">\n",
              "\n",
              "  <div class=\"colab-df-container\">\n",
              "    <button class=\"colab-df-convert\" onclick=\"convertToInteractive('df-fe46b2bc-2d43-48bc-a255-ee0f2637afed')\"\n",
              "            title=\"Convert this dataframe to an interactive table.\"\n",
              "            style=\"display:none;\">\n",
              "\n",
              "  <svg xmlns=\"http://www.w3.org/2000/svg\" height=\"24px\" viewBox=\"0 -960 960 960\">\n",
              "    <path d=\"M120-120v-720h720v720H120Zm60-500h600v-160H180v160Zm220 220h160v-160H400v160Zm0 220h160v-160H400v160ZM180-400h160v-160H180v160Zm440 0h160v-160H620v160ZM180-180h160v-160H180v160Zm440 0h160v-160H620v160Z\"/>\n",
              "  </svg>\n",
              "    </button>\n",
              "\n",
              "  <style>\n",
              "    .colab-df-container {\n",
              "      display:flex;\n",
              "      gap: 12px;\n",
              "    }\n",
              "\n",
              "    .colab-df-convert {\n",
              "      background-color: #E8F0FE;\n",
              "      border: none;\n",
              "      border-radius: 50%;\n",
              "      cursor: pointer;\n",
              "      display: none;\n",
              "      fill: #1967D2;\n",
              "      height: 32px;\n",
              "      padding: 0 0 0 0;\n",
              "      width: 32px;\n",
              "    }\n",
              "\n",
              "    .colab-df-convert:hover {\n",
              "      background-color: #E2EBFA;\n",
              "      box-shadow: 0px 1px 2px rgba(60, 64, 67, 0.3), 0px 1px 3px 1px rgba(60, 64, 67, 0.15);\n",
              "      fill: #174EA6;\n",
              "    }\n",
              "\n",
              "    .colab-df-buttons div {\n",
              "      margin-bottom: 4px;\n",
              "    }\n",
              "\n",
              "    [theme=dark] .colab-df-convert {\n",
              "      background-color: #3B4455;\n",
              "      fill: #D2E3FC;\n",
              "    }\n",
              "\n",
              "    [theme=dark] .colab-df-convert:hover {\n",
              "      background-color: #434B5C;\n",
              "      box-shadow: 0px 1px 3px 1px rgba(0, 0, 0, 0.15);\n",
              "      filter: drop-shadow(0px 1px 2px rgba(0, 0, 0, 0.3));\n",
              "      fill: #FFFFFF;\n",
              "    }\n",
              "  </style>\n",
              "\n",
              "    <script>\n",
              "      const buttonEl =\n",
              "        document.querySelector('#df-fe46b2bc-2d43-48bc-a255-ee0f2637afed button.colab-df-convert');\n",
              "      buttonEl.style.display =\n",
              "        google.colab.kernel.accessAllowed ? 'block' : 'none';\n",
              "\n",
              "      async function convertToInteractive(key) {\n",
              "        const element = document.querySelector('#df-fe46b2bc-2d43-48bc-a255-ee0f2637afed');\n",
              "        const dataTable =\n",
              "          await google.colab.kernel.invokeFunction('convertToInteractive',\n",
              "                                                    [key], {});\n",
              "        if (!dataTable) return;\n",
              "\n",
              "        const docLinkHtml = 'Like what you see? Visit the ' +\n",
              "          '<a target=\"_blank\" href=https://colab.research.google.com/notebooks/data_table.ipynb>data table notebook</a>'\n",
              "          + ' to learn more about interactive tables.';\n",
              "        element.innerHTML = '';\n",
              "        dataTable['output_type'] = 'display_data';\n",
              "        await google.colab.output.renderOutput(dataTable, element);\n",
              "        const docLink = document.createElement('div');\n",
              "        docLink.innerHTML = docLinkHtml;\n",
              "        element.appendChild(docLink);\n",
              "      }\n",
              "    </script>\n",
              "  </div>\n",
              "\n",
              "\n",
              "<div id=\"df-c15ac5f4-9c1c-4920-83eb-af3b016f8b50\">\n",
              "  <button class=\"colab-df-quickchart\" onclick=\"quickchart('df-c15ac5f4-9c1c-4920-83eb-af3b016f8b50')\"\n",
              "            title=\"Suggest charts\"\n",
              "            style=\"display:none;\">\n",
              "\n",
              "<svg xmlns=\"http://www.w3.org/2000/svg\" height=\"24px\"viewBox=\"0 0 24 24\"\n",
              "     width=\"24px\">\n",
              "    <g>\n",
              "        <path d=\"M19 3H5c-1.1 0-2 .9-2 2v14c0 1.1.9 2 2 2h14c1.1 0 2-.9 2-2V5c0-1.1-.9-2-2-2zM9 17H7v-7h2v7zm4 0h-2V7h2v10zm4 0h-2v-4h2v4z\"/>\n",
              "    </g>\n",
              "</svg>\n",
              "  </button>\n",
              "\n",
              "<style>\n",
              "  .colab-df-quickchart {\n",
              "      --bg-color: #E8F0FE;\n",
              "      --fill-color: #1967D2;\n",
              "      --hover-bg-color: #E2EBFA;\n",
              "      --hover-fill-color: #174EA6;\n",
              "      --disabled-fill-color: #AAA;\n",
              "      --disabled-bg-color: #DDD;\n",
              "  }\n",
              "\n",
              "  [theme=dark] .colab-df-quickchart {\n",
              "      --bg-color: #3B4455;\n",
              "      --fill-color: #D2E3FC;\n",
              "      --hover-bg-color: #434B5C;\n",
              "      --hover-fill-color: #FFFFFF;\n",
              "      --disabled-bg-color: #3B4455;\n",
              "      --disabled-fill-color: #666;\n",
              "  }\n",
              "\n",
              "  .colab-df-quickchart {\n",
              "    background-color: var(--bg-color);\n",
              "    border: none;\n",
              "    border-radius: 50%;\n",
              "    cursor: pointer;\n",
              "    display: none;\n",
              "    fill: var(--fill-color);\n",
              "    height: 32px;\n",
              "    padding: 0;\n",
              "    width: 32px;\n",
              "  }\n",
              "\n",
              "  .colab-df-quickchart:hover {\n",
              "    background-color: var(--hover-bg-color);\n",
              "    box-shadow: 0 1px 2px rgba(60, 64, 67, 0.3), 0 1px 3px 1px rgba(60, 64, 67, 0.15);\n",
              "    fill: var(--button-hover-fill-color);\n",
              "  }\n",
              "\n",
              "  .colab-df-quickchart-complete:disabled,\n",
              "  .colab-df-quickchart-complete:disabled:hover {\n",
              "    background-color: var(--disabled-bg-color);\n",
              "    fill: var(--disabled-fill-color);\n",
              "    box-shadow: none;\n",
              "  }\n",
              "\n",
              "  .colab-df-spinner {\n",
              "    border: 2px solid var(--fill-color);\n",
              "    border-color: transparent;\n",
              "    border-bottom-color: var(--fill-color);\n",
              "    animation:\n",
              "      spin 1s steps(1) infinite;\n",
              "  }\n",
              "\n",
              "  @keyframes spin {\n",
              "    0% {\n",
              "      border-color: transparent;\n",
              "      border-bottom-color: var(--fill-color);\n",
              "      border-left-color: var(--fill-color);\n",
              "    }\n",
              "    20% {\n",
              "      border-color: transparent;\n",
              "      border-left-color: var(--fill-color);\n",
              "      border-top-color: var(--fill-color);\n",
              "    }\n",
              "    30% {\n",
              "      border-color: transparent;\n",
              "      border-left-color: var(--fill-color);\n",
              "      border-top-color: var(--fill-color);\n",
              "      border-right-color: var(--fill-color);\n",
              "    }\n",
              "    40% {\n",
              "      border-color: transparent;\n",
              "      border-right-color: var(--fill-color);\n",
              "      border-top-color: var(--fill-color);\n",
              "    }\n",
              "    60% {\n",
              "      border-color: transparent;\n",
              "      border-right-color: var(--fill-color);\n",
              "    }\n",
              "    80% {\n",
              "      border-color: transparent;\n",
              "      border-right-color: var(--fill-color);\n",
              "      border-bottom-color: var(--fill-color);\n",
              "    }\n",
              "    90% {\n",
              "      border-color: transparent;\n",
              "      border-bottom-color: var(--fill-color);\n",
              "    }\n",
              "  }\n",
              "</style>\n",
              "\n",
              "  <script>\n",
              "    async function quickchart(key) {\n",
              "      const quickchartButtonEl =\n",
              "        document.querySelector('#' + key + ' button');\n",
              "      quickchartButtonEl.disabled = true;  // To prevent multiple clicks.\n",
              "      quickchartButtonEl.classList.add('colab-df-spinner');\n",
              "      try {\n",
              "        const charts = await google.colab.kernel.invokeFunction(\n",
              "            'suggestCharts', [key], {});\n",
              "      } catch (error) {\n",
              "        console.error('Error during call to suggestCharts:', error);\n",
              "      }\n",
              "      quickchartButtonEl.classList.remove('colab-df-spinner');\n",
              "      quickchartButtonEl.classList.add('colab-df-quickchart-complete');\n",
              "    }\n",
              "    (() => {\n",
              "      let quickchartButtonEl =\n",
              "        document.querySelector('#df-c15ac5f4-9c1c-4920-83eb-af3b016f8b50 button');\n",
              "      quickchartButtonEl.style.display =\n",
              "        google.colab.kernel.accessAllowed ? 'block' : 'none';\n",
              "    })();\n",
              "  </script>\n",
              "</div>\n",
              "\n",
              "  <div id=\"id_e03a5354-3227-495e-94ca-95199782ef9f\">\n",
              "    <style>\n",
              "      .colab-df-generate {\n",
              "        background-color: #E8F0FE;\n",
              "        border: none;\n",
              "        border-radius: 50%;\n",
              "        cursor: pointer;\n",
              "        display: none;\n",
              "        fill: #1967D2;\n",
              "        height: 32px;\n",
              "        padding: 0 0 0 0;\n",
              "        width: 32px;\n",
              "      }\n",
              "\n",
              "      .colab-df-generate:hover {\n",
              "        background-color: #E2EBFA;\n",
              "        box-shadow: 0px 1px 2px rgba(60, 64, 67, 0.3), 0px 1px 3px 1px rgba(60, 64, 67, 0.15);\n",
              "        fill: #174EA6;\n",
              "      }\n",
              "\n",
              "      [theme=dark] .colab-df-generate {\n",
              "        background-color: #3B4455;\n",
              "        fill: #D2E3FC;\n",
              "      }\n",
              "\n",
              "      [theme=dark] .colab-df-generate:hover {\n",
              "        background-color: #434B5C;\n",
              "        box-shadow: 0px 1px 3px 1px rgba(0, 0, 0, 0.15);\n",
              "        filter: drop-shadow(0px 1px 2px rgba(0, 0, 0, 0.3));\n",
              "        fill: #FFFFFF;\n",
              "      }\n",
              "    </style>\n",
              "    <button class=\"colab-df-generate\" onclick=\"generateWithVariable('final_df')\"\n",
              "            title=\"Generate code using this dataframe.\"\n",
              "            style=\"display:none;\">\n",
              "\n",
              "  <svg xmlns=\"http://www.w3.org/2000/svg\" height=\"24px\"viewBox=\"0 0 24 24\"\n",
              "       width=\"24px\">\n",
              "    <path d=\"M7,19H8.4L18.45,9,17,7.55,7,17.6ZM5,21V16.75L18.45,3.32a2,2,0,0,1,2.83,0l1.4,1.43a1.91,1.91,0,0,1,.58,1.4,1.91,1.91,0,0,1-.58,1.4L9.25,21ZM18.45,9,17,7.55Zm-12,3A5.31,5.31,0,0,0,4.9,8.1,5.31,5.31,0,0,0,1,6.5,5.31,5.31,0,0,0,4.9,4.9,5.31,5.31,0,0,0,6.5,1,5.31,5.31,0,0,0,8.1,4.9,5.31,5.31,0,0,0,12,6.5,5.46,5.46,0,0,0,6.5,12Z\"/>\n",
              "  </svg>\n",
              "    </button>\n",
              "    <script>\n",
              "      (() => {\n",
              "      const buttonEl =\n",
              "        document.querySelector('#id_e03a5354-3227-495e-94ca-95199782ef9f button.colab-df-generate');\n",
              "      buttonEl.style.display =\n",
              "        google.colab.kernel.accessAllowed ? 'block' : 'none';\n",
              "\n",
              "      buttonEl.onclick = () => {\n",
              "        google.colab.notebook.generateWithVariable('final_df');\n",
              "      }\n",
              "      })();\n",
              "    </script>\n",
              "  </div>\n",
              "\n",
              "    </div>\n",
              "  </div>\n"
            ],
            "application/vnd.google.colaboratory.intrinsic+json": {
              "type": "dataframe",
              "variable_name": "final_df",
              "summary": "{\n  \"name\": \"final_df\",\n  \"rows\": 259,\n  \"fields\": [\n    {\n      \"column\": \"Date\",\n      \"properties\": {\n        \"dtype\": \"string\",\n        \"num_unique_values\": 213,\n        \"samples\": [\n          \"10/05/2024\",\n          \"16/7/2024\",\n          \"06/03/2024\"\n        ],\n        \"semantic_type\": \"\",\n        \"description\": \"\"\n      }\n    },\n    {\n      \"column\": \"Amount\",\n      \"properties\": {\n        \"dtype\": \"number\",\n        \"std\": 17.082558030691075,\n        \"min\": 0.0,\n        \"max\": 150.0,\n        \"num_unique_values\": 124,\n        \"samples\": [\n          22.0,\n          61.65,\n          14.2\n        ],\n        \"semantic_type\": \"\",\n        \"description\": \"\"\n      }\n    },\n    {\n      \"column\": \"Description\",\n      \"properties\": {\n        \"dtype\": \"category\",\n        \"num_unique_values\": 19,\n        \"samples\": [\n          \"Rent\",\n          \"GOMO & WIFI\",\n          \"Personal\"\n        ],\n        \"semantic_type\": \"\",\n        \"description\": \"\"\n      }\n    },\n    {\n      \"column\": \"Category\",\n      \"properties\": {\n        \"dtype\": \"category\",\n        \"num_unique_values\": 4,\n        \"samples\": [\n          \"Food\",\n          \"Transportation\",\n          \"Home\"\n        ],\n        \"semantic_type\": \"\",\n        \"description\": \"\"\n      }\n    }\n  ]\n}"
            }
          },
          "metadata": {}
        }
      ]
    },
    {
      "cell_type": "code",
      "execution_count": null,
      "id": "88401630-f82d-413b-bfc1-10c8c612db0a",
      "metadata": {
        "id": "88401630-f82d-413b-bfc1-10c8c612db0a"
      },
      "outputs": [],
      "source": [
        "# # get the instance of the Spreadsheet\n",
        "# sheet = client.open('[Jan\\'25] Living Expenses')"
      ]
    },
    {
      "cell_type": "code",
      "execution_count": null,
      "id": "682ea952-d6a1-4c48-8306-f16f93b26878",
      "metadata": {
        "id": "682ea952-d6a1-4c48-8306-f16f93b26878"
      },
      "outputs": [],
      "source": [
        "# # # get the title of all worksheet - returns a list\n",
        "# # worksheet_list = sheet.worksheets()\n",
        "# # print(worksheet_list)\n",
        "\n",
        "# # Extract the 'Transaction' worksheet\n",
        "# trans_sheet = sheet.get_worksheet(1)\n",
        "\n",
        "# # get all the records from 'trans_sheet'\n",
        "# record_list = trans_sheet.get(\"B4:E100\")\n"
      ]
    },
    {
      "cell_type": "code",
      "execution_count": null,
      "id": "e267bb7c-56c5-46d9-a1e6-54033a8fd9ef",
      "metadata": {
        "id": "e267bb7c-56c5-46d9-a1e6-54033a8fd9ef"
      },
      "outputs": [],
      "source": [
        "# # Convert the list of list into a panda dataframe\n",
        "# gSheetDF = pd.DataFrame(record_list[1:], columns = record_list[0])\n"
      ]
    },
    {
      "cell_type": "code",
      "execution_count": null,
      "id": "466da7ed-9c31-4139-b010-5f81af94124b",
      "metadata": {
        "id": "466da7ed-9c31-4139-b010-5f81af94124b"
      },
      "outputs": [],
      "source": [
        "# # Data Cleaning\n",
        "\n",
        "# # Remove '$' sign in the 'Amount' Column\n",
        "# gSheetDF['Amount'] = gSheetDF['Amount'].str.slice(1)\n",
        "\n",
        "# # Cast the DataFrame into the appropriate datatype\n",
        "# gSheetDF = gSheetDF.astype({\"Date\": str, \"Amount\": float,\n",
        "#                       \"Description\": str, \"Category\": str})\n",
        "\n",
        "# # # Dont cast to datetime yet. Do it after creating the dataset\n",
        "# # # Cast 'Date' column into datetime\n",
        "# # gSheetDF['Date'] = pd.to_datetime(gSheetDF['Date'], format='%d/%m/%Y')\n"
      ]
    },
    {
      "cell_type": "markdown",
      "source": [
        "# Saving the DataFrame into a new spreadsheet\n",
        "\n",
        "After collating our data from google spreadsheets, ***one single spreadsheet*** is used store the data. The spreadsheet - 'expensesDataSheet' - is created if it doesn't exist. Otherwise, it is reused to avoid duplicates.\n",
        "\n",
        "The idea is to use ***PowerBI*** and query for this googlesheet for Visualisation"
      ],
      "metadata": {
        "id": "Jaf2YTrHJNIU"
      },
      "id": "Jaf2YTrHJNIU"
    },
    {
      "cell_type": "code",
      "source": [
        "# https://stackoverflow.com/questions/75935222/copy-google-sheet-with-service-account-and-then-transfer-ownership-to-a-differen\n",
        "\n",
        "# 1. Grab the spreadsheet shared with the Service Account\n",
        "sheetname = 'Test_Sheet_0602' # Change this for testing\n",
        "sheetDict = client.list_spreadsheet_files(sheetname)\n",
        "\n",
        "if (len(sheetDict)) == 0:\n",
        "  # 1a. If the spreadsheet doesn't exist\n",
        "  # Creates the spreadsheet using the service account\n",
        "  sh = client.create(sheetname)\n",
        "\n",
        "  # Share the spreadsheet with my actual account - Set the role as \"writer\" first\n",
        "  res = sh.share('tan.cz1993@gmail.com', perm_type='user', role=\"writer\", notify=True)\n",
        "\n",
        "  # Retrieve the permission id to identify my account\n",
        "  print(res.json()) # Display the content of the json file\n",
        "  permissionId = res.json()[\"id\"]\n",
        "\n",
        "  # Transfer the ownership of the spreadsheet to my actual account\n",
        "  sh.transfer_ownership(permissionId)\n",
        "\n",
        "  # Now, I have to manually accept ownership of the spreadsheet - log in via gmail\n",
        "  print(f'Please log in to your gmail account and accept ownership of the spreadsheet - {sheetname}')\n",
        "else:\n",
        "  # 1b. if the spreadsheet does exist\n",
        "  # Open the spreadsheet\n",
        "  sh = client.open(sheetname)\n",
        "\n",
        "  # List all the permission associated with the spreadsheet\n",
        "  print('Spreadsheet found! Listing all the associated permissions')\n",
        "  for listing in sh.list_permissions():\n",
        "    email, role = listing['emailAddress'], listing['role']\n",
        "    print(f'Email: {email}')\n",
        "    print(f'Role: {role}')\n"
      ],
      "metadata": {
        "id": "QOggtS2b1ecu",
        "colab": {
          "base_uri": "https://localhost:8080/"
        },
        "outputId": "1b024d60-1cf7-4e4a-8a91-71f73750220f"
      },
      "id": "QOggtS2b1ecu",
      "execution_count": null,
      "outputs": [
        {
          "output_type": "stream",
          "name": "stdout",
          "text": [
            "Spreadsheet found! Listing all the associated permissions\n",
            "Email: tan.cz1993@gmail.com\n",
            "Role: owner\n",
            "Email: tcz-701@vocal-catalyst-359907.iam.gserviceaccount.com\n",
            "Role: writer\n"
          ]
        }
      ]
    },
    {
      "cell_type": "code",
      "source": [
        "# 2. Select the worksheet from the spreadsheet - expensesDataSheet\n",
        "worksheet = sh.sheet1  # Or sh.worksheet(\"Sheet Name\") if you want a specific sheet\n",
        "\n",
        "# 3. Clear existing data in the selected sheet (optional but often useful)\n",
        "worksheet.clear()"
      ],
      "metadata": {
        "id": "_WRAa6Wr1Rsl",
        "colab": {
          "base_uri": "https://localhost:8080/"
        },
        "outputId": "bb7bfd8b-61e7-4a82-b8ae-2d1e6a4afb23"
      },
      "id": "_WRAa6Wr1Rsl",
      "execution_count": null,
      "outputs": [
        {
          "output_type": "execute_result",
          "data": {
            "text/plain": [
              "{'spreadsheetId': '1Q81a-_PYfavuh3Vv2cnqp_tQMlR9Xwdu80cD0SX-EjU',\n",
              " 'clearedRange': 'Sheet1!A1:Z1000'}"
            ]
          },
          "metadata": {},
          "execution_count": 11
        }
      ]
    },
    {
      "cell_type": "code",
      "source": [
        "# 4. Convert DataFrame to a list of lists (required by gspread)\n",
        "data = [final_df.columns.values.tolist()] + final_df.values.tolist()  # Include header row\n",
        "# print(data)\n"
      ],
      "metadata": {
        "id": "9_C3zpHr2s7A"
      },
      "id": "9_C3zpHr2s7A",
      "execution_count": null,
      "outputs": []
    },
    {
      "cell_type": "code",
      "source": [
        "# 5. Update the sheet with the DataFrame data, starting the cell 'A1'\n",
        "worksheet.update(data, 'A1')"
      ],
      "metadata": {
        "id": "bBVUCIWW4RIU",
        "colab": {
          "base_uri": "https://localhost:8080/"
        },
        "outputId": "59e89eeb-0fb6-4c8c-8ca4-45574cfeee04"
      },
      "id": "bBVUCIWW4RIU",
      "execution_count": null,
      "outputs": [
        {
          "output_type": "execute_result",
          "data": {
            "text/plain": [
              "{'spreadsheetId': '1Q81a-_PYfavuh3Vv2cnqp_tQMlR9Xwdu80cD0SX-EjU',\n",
              " 'updatedRange': 'Sheet1!A1:D260',\n",
              " 'updatedRows': 260,\n",
              " 'updatedColumns': 4,\n",
              " 'updatedCells': 1040}"
            ]
          },
          "metadata": {},
          "execution_count": 13
        }
      ]
    },
    {
      "cell_type": "code",
      "source": [],
      "metadata": {
        "id": "rbX9IX9G4a2F"
      },
      "id": "rbX9IX9G4a2F",
      "execution_count": null,
      "outputs": []
    }
  ],
  "metadata": {
    "kernelspec": {
      "display_name": "Python 3 (ipykernel)",
      "language": "python",
      "name": "python3"
    },
    "language_info": {
      "codemirror_mode": {
        "name": "ipython",
        "version": 3
      },
      "file_extension": ".py",
      "mimetype": "text/x-python",
      "name": "python",
      "nbconvert_exporter": "python",
      "pygments_lexer": "ipython3",
      "version": "3.9.19"
    },
    "colab": {
      "provenance": [],
      "include_colab_link": true
    }
  },
  "nbformat": 4,
  "nbformat_minor": 5
}